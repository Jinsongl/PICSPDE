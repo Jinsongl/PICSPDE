{
 "cells": [
  {
   "cell_type": "markdown",
   "metadata": {},
   "source": [
    "# Python codes for [Introduction to Computional Stochastic PDEs, CUP 2014](http://www.cambridge.org/gb/academic/subjects/mathematics/differential-and-integral-equations-dynamical-systems-and-co/introduction-computational-stochastic-pdes?format=PB&isbn=9780521728522)\n",
    "\n",
    "Written by [T. Shardlow](http://people.bath.ac.uk/tjs42/) Dec 2015\n",
    "# Chapter 1\n",
    "\n",
    "\n",
    "\n",
    "Python has two major versions widely in use, versions 2 and 3. These codes were developed with Python 2.7 with future syntax changes \"imported\", as achieved in the next few lines. The advantage of making these imports is the code is more likely to run on both Python 2.7 and Python 3."
   ]
  },
  {
   "cell_type": "code",
   "execution_count": 2,
   "metadata": {
    "collapsed": true
   },
   "outputs": [],
   "source": [
    "from __future__ import (absolute_import, division,\n",
    "                        print_function, unicode_literals)"
   ]
  },
  {
   "cell_type": "markdown",
   "metadata": {},
   "source": [
    "In particular, this makes the division and print command work differently.\n"
   ]
  },
  {
   "cell_type": "code",
   "execution_count": 3,
   "metadata": {
    "collapsed": false
   },
   "outputs": [
    {
     "name": "stdout",
     "output_type": "stream",
     "text": [
      "True\n"
     ]
    }
   ],
   "source": [
    "print(1/2==0.5) # traditional Python 2 treats 1/2 as integer division (returning 0) and 1.0/2.0 as floating-point division"
   ]
  },
  {
   "cell_type": "code",
   "execution_count": 5,
   "metadata": {
    "collapsed": false
   },
   "outputs": [],
   "source": [
    "import sys\n",
    "if sys.version_info < (3,):\n",
    "    try:\n",
    "        from builtins import (bytes, dict, int, list, object, range, str,\n",
    "                              ascii, chr, hex, input, next, oct, open,\n",
    "                              pow, round, super, filter, map, zip)\n",
    "        from future.builtins.disabled import (apply, cmp, coerce, execfile,\n",
    "                                              file, long, raw_input,\n",
    "                                              reduce, reload,\n",
    "                                              unicode, xrange, StandardError)\n",
    "    except:\n",
    "        print(\"need future module\")"
   ]
  },
  {
   "cell_type": "markdown",
   "metadata": {},
   "source": [
    "Here, we have finished the import of Python 3 modules. Now, lets set up some mathematics. To function in a way similar to MATLAB, Python requires a variety of modules are imported."
   ]
  },
  {
   "cell_type": "code",
   "execution_count": 6,
   "metadata": {
    "collapsed": false
   },
   "outputs": [
    {
     "name": "stdout",
     "output_type": "stream",
     "text": [
      "3.141592653589793 24.0 2.718281828459045\n"
     ]
    }
   ],
   "source": [
    "from math import *\n",
    "print(pi, gamma(5), exp(1))"
   ]
  },
  {
   "cell_type": "markdown",
   "metadata": {},
   "source": [
    "The constant pi and gamma and exponential functions are defined in a module called `math`. Usually, these would be called with `math.pi`, `math.gamma`, `math.exp`, but here we use `import *` to avoid having to use `math`.\n",
    "\n",
    "For vectors, matrices, tensors, we require Numpy and we `import numpy as np`, so we use the prefix np. when calling Numpy functions. We also import Matplotlib for plotting."
   ]
  },
  {
   "cell_type": "code",
   "execution_count": 7,
   "metadata": {
    "collapsed": true
   },
   "outputs": [],
   "source": [
    "# Numpy\n",
    "import numpy as np\n",
    "from numpy import matlib\n",
    "# Plotting\n",
    "%matplotlib inline\n",
    "import matplotlib\n",
    "import matplotlib.pyplot as plt"
   ]
  },
  {
   "cell_type": "code",
   "execution_count": 8,
   "metadata": {
    "collapsed": false
   },
   "outputs": [
    {
     "name": "stdout",
     "output_type": "stream",
     "text": [
      "x= [ 10 -20] \n",
      "A= [[1 2]\n",
      " [3 4]]\n"
     ]
    }
   ],
   "source": [
    "x=np.array([10,-20]) # define a one-dimensional Numpy array (vector) \n",
    "A=np.array([[1,2],[3,4]]) # define a two-dimensional Numpy (matrix) \n",
    "print(\"x=\",x,\"\\nA=\",A)"
   ]
  },
  {
   "cell_type": "markdown",
   "metadata": {},
   "source": [
    "Numpy arrays are different MATLAB matrices in important ways: MATLAB vectors are indexed starting at 1, while Numpy arrays are indexed starting at 0\n"
   ]
  },
  {
   "cell_type": "code",
   "execution_count": 9,
   "metadata": {
    "collapsed": false
   },
   "outputs": [
    {
     "name": "stdout",
     "output_type": "stream",
     "text": [
      "1 3\n",
      "2 4\n",
      "[0 1 2 3 4]\n"
     ]
    }
   ],
   "source": [
    "print (A[0,0],A[1,0])\n",
    "print (A[0,1],A[1,1])\n",
    "print (np.arange(5)) # range starts at 0 and last entry excluded (equivalent to MATLAB 0:4)"
   ]
  },
  {
   "cell_type": "markdown",
   "metadata": {},
   "source": [
    "Also, A\\*x in MATLAB is the matrix-vector product, while in Numpy it is an element-wise product. The command `np.dot(A,x)` or equivalently `A.dot(x)` does matrix multiply. Notice that `x`, as a one-dimensional array, is not a column vector and the `dot` is still well-defined."
   ]
  },
  {
   "cell_type": "code",
   "execution_count": 10,
   "metadata": {
    "collapsed": false
   },
   "outputs": [
    {
     "name": "stdout",
     "output_type": "stream",
     "text": [
      "A*x= [[ 10 -40]\n",
      " [ 30 -80]]\n",
      "A.dot(x)= [-30 -50]\n"
     ]
    }
   ],
   "source": [
    "print('A*x=',A*x)\n",
    "print('A.dot(x)=',A.dot(x))"
   ]
  },
  {
   "cell_type": "markdown",
   "metadata": {},
   "source": [
    "For element-wise evaluation of exp and stacking vectors:"
   ]
  },
  {
   "cell_type": "code",
   "execution_count": 11,
   "metadata": {
    "collapsed": false
   },
   "outputs": [
    {
     "name": "stdout",
     "output_type": "stream",
     "text": [
      "[  2.20264658e+04   2.06115362e-09]\n",
      "[ 10 -20  10 -20]\n",
      "[[ 10 -20]\n",
      " [ 10 -20]]\n"
     ]
    }
   ],
   "source": [
    "print(np.exp(x))\n",
    "print(np.hstack([x,x]))\n",
    "print(np.vstack([x,x]))"
   ]
  },
  {
   "cell_type": "markdown",
   "metadata": {},
   "source": [
    "A nice reference for learning Numpy commands from their MATLAB equivalents is [here](http://mathesaurus.sourceforge.net/matlab-numpy.html).\n",
    "\n",
    "Now, here's our first function. "
   ]
  },
  {
   "cell_type": "code",
   "execution_count": 12,
   "metadata": {
    "collapsed": true
   },
   "outputs": [],
   "source": [
    "fft=np.fft.fft # define alias for fft\n",
    "def get_coeffs(u,a,b):\n",
    "    \"\"\" \n",
    "    A1.1 Page 32. \n",
    "    \"\"\"\n",
    "    J=u.size - 1;    h=(b - a) / J\n",
    "    u1=np.hstack(( (u[0] + u[-1 ]) / 2,  u[1:-1]) )\n",
    "    Uk=(h / (b - a))*np.exp( (- 2 * pi * 1j * a / (b - a) )\n",
    "                             * np.arange(J) )*fft(u1)\n",
    "    assert (J % 2 == 0) # J must be even\n",
    "    nu= ((2. * pi / (b - a))\n",
    "         * np.hstack((np.arange(1+J/ 2), np.arange(- J / 2 + 1,0)))) \n",
    "    return Uk, nu    "
   ]
  },
  {
   "cell_type": "code",
   "execution_count": 13,
   "metadata": {
    "collapsed": false
   },
   "outputs": [
    {
     "name": "stdout",
     "output_type": "stream",
     "text": [
      "[ 4.00+0.j   -1.75-1.25j  1.50+0.j   -1.75+1.25j] [  0.           6.28318531  12.56637061  -6.28318531]\n"
     ]
    }
   ],
   "source": [
    "u=np.array([2,5,9,0,2])\n",
    "a=0; b=1;\n",
    "Uk,nu=get_coeffs(u,a,b)\n",
    "print(Uk,nu)"
   ]
  },
  {
   "cell_type": "markdown",
   "metadata": {},
   "source": [
    "The next routine approximates the $L^2$ and $H^1$ norm of a real-valued function $f$ on the interval $[a,b]$ using a $J$-term expansion."
   ]
  },
  {
   "cell_type": "code",
   "execution_count": 14,
   "metadata": {
    "collapsed": true
   },
   "outputs": [],
   "source": [
    " \n",
    "def get_norm(fhandle,a,b,J):\n",
    "    \"\"\"\n",
    "    A1.2. Page 33\n",
    "    \"\"\"\n",
    "    grid=np.linspace(a,b, J+1)  \n",
    "    u=fhandle(grid)\n",
    "    Uk,nu=get_coeffs(u,a,b)\n",
    "    l2_norm=sqrt(b-a) * np.linalg.norm(Uk)\n",
    "    dUk=nu*Uk # element-wise multiplication\n",
    "    h1_norm=np.linalg.norm([l2_norm, sqrt(b - a) * np.linalg.norm(dUk)])\n",
    "    return l2_norm, h1_norm"
   ]
  },
  {
   "cell_type": "markdown",
   "metadata": {},
   "source": [
    "We set up two test functions."
   ]
  },
  {
   "cell_type": "code",
   "execution_count": 15,
   "metadata": {
    "collapsed": true
   },
   "outputs": [],
   "source": [
    "def f_u1(x):\n",
    "    return (x*(x-1))**2\n",
    "\n",
    "def f_u2(x):\n",
    "    return np.cos(x*pi/2)"
   ]
  },
  {
   "cell_type": "markdown",
   "metadata": {},
   "source": [
    "The Python module for symbolic mathematics is called Sympy. Here, we import Sympy and use it to evaluate the norms of the two test functions."
   ]
  },
  {
   "cell_type": "code",
   "execution_count": 16,
   "metadata": {
    "collapsed": false
   },
   "outputs": [
    {
     "name": "stdout",
     "output_type": "stream",
     "text": [
      "u1 (0.03984095364447979, 0.14364860122855577) \n",
      "u2 (0.7071067811865476, 1.3167006304153461)\n"
     ]
    }
   ],
   "source": [
    "import sympy as sp\n",
    "def get_symbolic(u,x,a,b):\n",
    "    int1=sp.Integral(u(x)*u(x),(x,a,b))\n",
    "    du=lambda x:sp.diff(u(x),x)\n",
    "    int2=sp.Integral(du(x)*du(x),(x,a,b))\n",
    "    l2_norm=sqrt(int1.evalf())\n",
    "    h1_semi_norm=sqrt(int2.evalf())\n",
    "    h1_norm=np.linalg.norm((l2_norm,h1_semi_norm))\n",
    "    return l2_norm,h1_norm\n",
    "    \n",
    "def sp_u1(a,b):\n",
    "    x=sp.symbols('x')\n",
    "    u=lambda x:((x*(x-1))**2)\n",
    "    l2_norm,h1_norm=get_symbolic(u,x,a,b)\n",
    "    return l2_norm,h1_norm\n",
    "\n",
    "def sp_u2(a,b):\n",
    "    x=sp.symbols('x')\n",
    "    u=lambda x:(sp.cos(x*pi/2))\n",
    "    l2_norm,h1_norm=get_symbolic(u,x,a,b)\n",
    "    return l2_norm,h1_norm\n",
    "print('u1',sp_u1(0,1),'\\nu2', sp_u2(0,1))"
   ]
  },
  {
   "cell_type": "markdown",
   "metadata": {},
   "source": [
    "Let's see how good `get_norm` is at evaluating the norms. "
   ]
  },
  {
   "cell_type": "code",
   "execution_count": 17,
   "metadata": {
    "collapsed": false
   },
   "outputs": [
    {
     "name": "stderr",
     "output_type": "stream",
     "text": [
      "C:\\Users\\tony\\Anaconda\\envs\\py35\\lib\\site-packages\\matplotlib\\axis.py:1015: UserWarning: Unable to find pixel distance along axis for interval padding of ticks; assuming no interval padding needed.\n",
      "  warnings.warn(\"Unable to find pixel distance along axis \"\n",
      "C:\\Users\\tony\\Anaconda\\envs\\py35\\lib\\site-packages\\matplotlib\\axis.py:1025: UserWarning: Unable to find pixel distance along axis for interval padding of ticks; assuming no interval padding needed.\n",
      "  warnings.warn(\"Unable to find pixel distance along axis \"\n"
     ]
    },
    {
     "data": {
      "image/png": "[encoded data removed]",
      "text/plain": [
       "<matplotlib.figure.Figure at 0x1e4d5aad0b8>"
      ]
     },
     "metadata": {},
     "output_type": "display_data"
    }
   ],
   "source": [
    "N=10; J=np.zeros(N,dtype='float64');\n",
    "l2_norm=np.empty_like(J);        h1_norm=np.empty_like(J);    \n",
    "a=0;    b=1; # domain\n",
    "for j in range(10):\n",
    "    N=int(pow(2,(j+3))); J[j]=N; \n",
    "    l2_norm[j],h1_norm[j]=get_norm(f_u1,a,b,N)\n",
    "# get symbolic values\n",
    "[l2_norm_sym, h1_norm_sym]=sp_u1(a,b)\n",
    "# computer errors\n",
    "el2=abs(l2_norm-l2_norm_sym)\n",
    "ehs=abs(h1_norm-h1_norm_sym)\n",
    "# plotting\n",
    "l1,=plt.loglog(J,el2,label='$L^2$')\n",
    "l2,=plt.loglog(J,ehs,label='$H^1$')\n",
    "s=plt.xlabel('$J$')\n",
    "s=plt.ylabel('error')\n",
    "s=plt.title('Fig 1.6(a): $u_1(x)=x^2(x-1)^2$ on $(0,1)$')\n",
    "s=plt.legend(handles=[l1,l2])"
   ]
  },
  {
   "cell_type": "markdown",
   "metadata": {},
   "source": [
    "Now, try the second test function and notice a very different behaviour for the $H^1$ norm."
   ]
  },
  {
   "cell_type": "code",
   "execution_count": 16,
   "metadata": {
    "collapsed": false
   },
   "outputs": [
    {
     "data": {
      "image/png": "[encoded data removed]",
      "text/plain": [
       "<matplotlib.figure.Figure at 0x8a4cc18>"
      ]
     },
     "metadata": {},
     "output_type": "display_data"
    }
   ],
   "source": [
    "for j in range(10):\n",
    "    N=int(pow(2,(j+3))); J[j]=N; \n",
    "    l2_norm[j],h1_norm[j]=get_norm(f_u2,a,b,N)\n",
    "# get symbolic values\n",
    "[l2_norm_sym, h1_norm_sym]=sp_u2(a,b)\n",
    "# computer errors\n",
    "el2=abs(l2_norm-l2_norm_sym)\n",
    "ehs=abs(h1_norm-h1_norm_sym)\n",
    "# plotting\n",
    "l1,=plt.loglog(J,el2,label='$L^2$')\n",
    "l2,=plt.loglog(J,ehs,label='$H^1$')\n",
    "s=plt.xlabel('$J$')\n",
    "s=plt.ylabel('error')\n",
    "s=plt.title('Fig 1.6(b): $u_2(x)=\\cos(x\\pi/2)$ on $(0,1)$')\n",
    "s=plt.legend(handles=[l1,l2])"
   ]
  },
  {
   "cell_type": "code",
   "execution_count": null,
   "metadata": {
    "collapsed": true
   },
   "outputs": [],
   "source": []
  }
 ],
 "metadata": {
  "kernelspec": {
   "display_name": "Python 3",
   "language": "python",
   "name": "python3"
  },
  "language_info": {
   "codemirror_mode": {
    "name": "ipython",
    "version": 3
   },
   "file_extension": ".py",
   "mimetype": "text/x-python",
   "name": "python",
   "nbconvert_exporter": "python",
   "pygments_lexer": "ipython3",
   "version": "3.5.1"
  }
 },
 "nbformat": 4,
 "nbformat_minor": 0
}
