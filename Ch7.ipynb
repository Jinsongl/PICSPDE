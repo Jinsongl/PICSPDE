{
 "cells": [
  {
   "cell_type": "markdown",
   "metadata": {},
   "source": [
    "# Python codes for [Introduction to Computional Stochastic PDEs, CUP 2014](http://www.cambridge.org/gb/academic/subjects/mathematics/differential-and-integral-equations-dynamical-systems-and-co/introduction-computational-stochastic-pdes?format=PB&isbn=9780521728522)\n",
    "\n",
    "[T. Shardlow](http://people.bath.ac.uk/tjs42/) Dec 2015\n",
    "# Chapter 7\n",
    "\n",
    "\n",
    "\n"
   ]
  },
  {
   "cell_type": "code",
   "execution_count": 1,
   "metadata": {
    "collapsed": false
   },
   "outputs": [],
   "source": [
    "# load standard set of Python modules\n",
    "from __future__ import (absolute_import, division,\n",
    "                        print_function, unicode_literals)\n",
    "import sys\n",
    "if sys.version_info < (3,):\n",
    "    try:\n",
    "        from builtins import (bytes, dict, int, list, object, range, str,\n",
    "                              ascii, chr, hex, input, next, oct, open,\n",
    "                              pow, round, super, filter, map, zip)\n",
    "        from future.builtins.disabled import (apply, cmp, coerce, execfile,\n",
    "                                              file, long, raw_input,\n",
    "                                              reduce, reload,\n",
    "                                              unicode, xrange, StandardError)\n",
    "    except:\n",
    "        print(\"need future module\")"
   ]
  },
  {
   "cell_type": "code",
   "execution_count": 2,
   "metadata": {
    "collapsed": true
   },
   "outputs": [],
   "source": [
    "from math import *\n",
    "# Numpy\n",
    "import numpy as np\n",
    "from numpy import matlib\n",
    "# Plotting\n",
    "%matplotlib inline\n",
    "import matplotlib\n",
    "import matplotlib.pyplot as plt\n",
    "from mpl_toolkits.mplot3d import Axes3D\n",
    "from matplotlib import cm\n",
    "# Scipy\n",
    "import scipy\n",
    "from scipy import sparse\n",
    "from scipy.sparse import linalg\n",
    "from scipy import optimize\n",
    "#\n",
    "fft2=np.fft.fft2\n",
    "ifft2=np.fft.ifft2"
   ]
  },
  {
   "cell_type": "markdown",
   "metadata": {},
   "source": [
    "The circulant-embedding method also works for stationary random fields."
   ]
  },
  {
   "cell_type": "code",
   "execution_count": 3,
   "metadata": {
    "collapsed": false
   },
   "outputs": [],
   "source": [
    "def circ_cov_sample_2d(C_red,n1,n2):\n",
    "    \"\"\"\n",
    "    A7.1 Page 271\n",
    "    \"\"\"\n",
    "    N=n1 * n2\n",
    "    Lam=N * ifft2(C_red)\n",
    "    d=np.ravel(np.real(Lam))\n",
    "    d_minus=np.maximum(- d,0)\n",
    "    if (np.max(d_minus) > 0):\n",
    "        print('Invalid covariance rho(D_minus)={x:4.5f}'.format(x=np.max(d_minus)))\n",
    "    xi=np.random.randn(n1,n2) + 1j*np.random.randn(n1,n2)\n",
    "    V=(Lam ** 0.5)*xi\n",
    "    Z=fft2(V) / sqrt(N)\n",
    "    Z=np.ravel(Z);     X=np.real(Z);    Y=np.imag(Z)\n",
    "    return X,Y"
   ]
  },
  {
   "cell_type": "markdown",
   "metadata": {},
   "source": [
    "Here we calculate the reduced form of the stationary covariance matrix."
   ]
  },
  {
   "cell_type": "code",
   "execution_count": 4,
   "metadata": {
    "collapsed": false
   },
   "outputs": [],
   "source": [
    "def reduced_cov(n1,n2,dx1,dx2,fhandle):\n",
    "    \"\"\"\n",
    "    A7.2 Page 277\n",
    "    \"\"\"\n",
    "    C_red=np.zeros((2 * n1 - 1,2 * n2 - 1))\n",
    "    for i in range(2 * n1 - 1):\n",
    "        for j in range(2 * n2 - 1):\n",
    "            C_red[i,j]=fhandle((i+1 - n1) * dx1,(j+1 - n2) * dx2)\n",
    "    return C_red"
   ]
  },
  {
   "cell_type": "markdown",
   "metadata": {},
   "source": [
    "We give an example for the following Gaussian covariance."
   ]
  },
  {
   "cell_type": "code",
   "execution_count": 5,
   "metadata": {
    "collapsed": false
   },
   "outputs": [
    {
     "name": "stdout",
     "output_type": "stream",
     "text": [
      "[[ 0.36787944  0.36787944  0.04978707]\n",
      " [ 0.47236655  0.77880078  0.17377394]\n",
      " [ 0.36787944  1.          0.36787944]\n",
      " [ 0.17377394  0.77880078  0.47236655]\n",
      " [ 0.04978707  0.36787944  0.36787944]]\n"
     ]
    }
   ],
   "source": [
    "from numba import jit, f8\n",
    "@jit([f8(f8,f8,f8,f8,f8)])\n",
    "def gaussA_exp(x1,x2,a11,a22,a12):\n",
    "    \"\"\"\n",
    "    A7.3 Page 278\n",
    "    \"\"\"\n",
    "    c=exp(- ((x1 ** 2 * a11 + x2 ** 2 * a22) - 2 * x1 * x2 * a12))\n",
    "    return c\n",
    "#\n",
    "fhandle=jit(f8(f8,f8))(lambda x1,x2:gaussA_exp(x1,x2,1.,1.,0.5))\n",
    "C_red=reduced_cov(3,2,1/2,1,fhandle)\n",
    "print(C_red)"
   ]
  },
  {
   "cell_type": "markdown",
   "metadata": {},
   "source": [
    "The circulant embedding of the covariance matrix is achieved as follows."
   ]
  },
  {
   "cell_type": "code",
   "execution_count": 6,
   "metadata": {
    "collapsed": false
   },
   "outputs": [],
   "source": [
    "def circ_embed_sample_2d(C_red,n1,n2):\n",
    "    \"\"\"\n",
    "    A7.4 Page 279\n",
    "    \"\"\"\n",
    "    N=n1 * n2\n",
    "    tilde_C_red=np.zeros((2 * n1,2 * n2))\n",
    "    tilde_C_red[1:2 * n1,1:2 * n2]=C_red\n",
    "    tilde_C_red=np.fft.fftshift(tilde_C_red)\n",
    "    u1,u2=circ_cov_sample_2d(tilde_C_red,2 * n1,2 * n2)\n",
    "    u1=np.ravel(u1);  u2=np.ravel(u2)\n",
    "    u1=u1[0:2*n1*n2]; u1=u1.reshape((n1,2 * n2)); u1=u1[:,::2]\n",
    "    u2=u2[0:2*n1*n2]; u2=u2.reshape((n1,2 * n2)); u2=u2[:,::2]\n",
    "    return u1,u2"
   ]
  },
  {
   "cell_type": "markdown",
   "metadata": {},
   "source": [
    "Here's a small example of circulant embedding at work."
   ]
  },
  {
   "cell_type": "code",
   "execution_count": 7,
   "metadata": {
    "collapsed": false
   },
   "outputs": [
    {
     "name": "stdout",
     "output_type": "stream",
     "text": [
      "[-0.20812589 -0.17116355 -0.57732171 -1.5799635  -1.82330876 -2.97694882\n",
      "  0.19581144 -1.81412841 -0.71615302] \n",
      " [-0.3220219   0.28427941 -0.28740306 -0.2023154  -1.18786166 -0.3711384\n",
      "  0.44576957 -0.71584397  0.36588286]\n"
     ]
    }
   ],
   "source": [
    "C_red=np.array([[1, 0.5, 0.5],\n",
    "                [0.2, 0.1,0.2],\n",
    "                [0.2,0.2,0.1]])\n",
    "X,Y=circ_cov_sample_2d(C_red,3,3)\n",
    "print(X,\"\\n\",Y)"
   ]
  },
  {
   "cell_type": "markdown",
   "metadata": {},
   "source": [
    "For a more interesting example, we generate samples of the mean-zero stationary random field with the separable exponential covariance."
   ]
  },
  {
   "cell_type": "code",
   "execution_count": 8,
   "metadata": {
    "collapsed": false
   },
   "outputs": [
    {
     "data": {
      "image/png": "[encoded data removed]",
      "text/plain": [
       "<matplotlib.figure.Figure at 0x21280241048>"
      ]
     },
     "metadata": {},
     "output_type": "display_data"
    }
   ],
   "source": [
    "def sep_exp(x1,x2,ell_1,ell_2):\n",
    "    \"\"\"\n",
    "    A7.5 Page 279\n",
    "    \"\"\"\n",
    "    c=exp(- abs(x1) / ell_1 - abs(x2) / ell_2)\n",
    "    return c\n",
    "#\n",
    "fhandle1=lambda x1,x2:sep_exp(x1,x2,1/5,1/10)\n",
    "C_red=reduced_cov(201,401,1/200,1/200,fhandle1)\n",
    "u1,u2=circ_embed_sample_2d(C_red,201,401)\n",
    "#\n",
    "ax = plt.gca()\n",
    "x=np.linspace(0,1,201)\n",
    "y=np.linspace(0,2,401)\n",
    "CS=ax.contourf(y,x,u1,10,cmap=plt.cm.bone)\n",
    "s=ax.set_xlabel(r'$x_2$')\n",
    "s=ax.set_ylabel(r'$x_1$')\n",
    "s=ax.set_title(r'Fig 7.6')\n",
    "s=plt.colorbar(CS)"
   ]
  },
  {
   "cell_type": "markdown",
   "metadata": {},
   "source": [
    "Here's an implementation of circulant embedding with padding."
   ]
  },
  {
   "cell_type": "code",
   "execution_count": 9,
   "metadata": {
    "collapsed": false
   },
   "outputs": [],
   "source": [
    "def circ_embed_sample_2dB(C_red,n1,n2,m1,m2):\n",
    "    \"\"\"\n",
    "    A7.6 Page 282\n",
    "    \"\"\"\n",
    "    nn1=n1 + m1;    nn2=n2 + m2\n",
    "    N=nn1 * nn2\n",
    "    tilde_C_red=np.zeros((2 * nn1,2 * nn2))\n",
    "    tilde_C_red[1:2 * nn1,1:2 * nn2]=C_red\n",
    "    tilde_C_red=np.fft.fftshift(tilde_C_red)\n",
    "    u1,u2=circ_cov_sample_2d(tilde_C_red,2 * nn1,2 * nn2)\n",
    "    u1=np.ravel(u1);    u2=np.ravel(u2)\n",
    "    u1=u1[0:2 * nn1 * n2];    u1=u1.reshape((nn1,2 * n2));    u1=u1[0:n1,::2]\n",
    "    u2=u2[0:2 * nn1 * n2];    u2=u2.reshape((nn1,2 * n2));    u2=u2[0:n1,::2]\n",
    "    return u1,u2"
   ]
  },
  {
   "cell_type": "markdown",
   "metadata": {},
   "source": [
    "The last example with circulant embedding shows that the embedding has negative eigenvalues."
   ]
  },
  {
   "cell_type": "code",
   "execution_count": 10,
   "metadata": {
    "collapsed": false
   },
   "outputs": [
    {
     "name": "stdout",
     "output_type": "stream",
     "text": [
      "Invalid covariance rho(D_minus)=0.06464\n"
     ]
    },
    {
     "data": {
      "image/png": "[encoded data removed]",
      "text/plain": [
       "<matplotlib.figure.Figure at 0x212802bba58>"
      ]
     },
     "metadata": {},
     "output_type": "display_data"
    }
   ],
   "source": [
    "fhandle=lambda x1,x2:gaussA_exp(x1,x2,10,10,0)\n",
    "#\n",
    "n1=257; n2=257; m1=0;m2=0; dx1=1/(n1-1); dx2=1/(n2-1)\n",
    "C_red=reduced_cov(n1+m1,n2+m2,dx1,dx2,fhandle)\n",
    "u1,u2=circ_embed_sample_2dB(C_red,n1,n2,m1,m2)\n",
    "#\n",
    "ax = plt.gca()\n",
    "x=np.linspace(0,1,n1); y=np.linspace(0,2,n2)\n",
    "#ax.plot_wireframe(T,X,ut,rstride=16,cstride=1000,colors='k')\n",
    "CS=ax.contourf(y,x,u1,20,cmap=plt.cm.bone)\n",
    "#ax.set_zlabel(r'$u$')\n",
    "s=ax.set_xlabel(r'$y$')\n",
    "s=ax.set_ylabel(r'$x$')\n",
    "s=ax.set_title(r'Fig 7.7')\n",
    "s=plt.colorbar(CS)"
   ]
  },
  {
   "cell_type": "markdown",
   "metadata": {},
   "source": [
    "The next set of codes developing the turning-bands method."
   ]
  },
  {
   "cell_type": "code",
   "execution_count": 11,
   "metadata": {
    "collapsed": false
   },
   "outputs": [],
   "source": [
    "def turn_band_simple(grid1,grid2):\n",
    "    \"\"\"\n",
    "    A7.7 Page 285\n",
    "    \"\"\"\n",
    "    theta=2 * pi * np.random.uniform()\n",
    "    e=np.array([cos(theta),sin(theta)])\n",
    "    xx,yy=np.meshgrid(grid1,grid2)\n",
    "    tt=np.dot(e,np.vstack([xx.ravel(),yy.ravel()]))\n",
    "    xi=np.random.randn(2)\n",
    "    v=sqrt(1 / 2) * np.dot(xi,np.vstack([np.cos(tt),np.sin(tt)]))\n",
    "    v=v.reshape((grid1.size,grid2.size))\n",
    "    return v"
   ]
  },
  {
   "cell_type": "markdown",
   "metadata": {},
   "source": [
    "With one turning band, we get poor approximation of the realisations of the random field."
   ]
  },
  {
   "cell_type": "code",
   "execution_count": 12,
   "metadata": {
    "collapsed": false
   },
   "outputs": [
    {
     "data": {
      "image/png": "[encoded data removed]",
      "text/plain": [
       "<matplotlib.figure.Figure at 0x212806ba630>"
      ]
     },
     "metadata": {},
     "output_type": "display_data"
    }
   ],
   "source": [
    "grid=np.linspace(0,10,200)\n",
    "u=turn_band_simple(grid,grid)\n",
    "#\n",
    "ax = plt.gca()\n",
    "#ax.plot_wireframe(T,X,ut,rstride=16,cstride=1000,colors='k')\n",
    "CS=ax.contourf(grid,grid,u,10,cmap=plt.cm.bone)\n",
    "#ax.set_zlabel(r'$u$')\n",
    "s=ax.set_xlabel(r'$y$')\n",
    "s=ax.set_ylabel(r'$x$')\n",
    "s=ax.set_title(r'Fig 7.10')\n",
    "s=plt.colorbar(CS)"
   ]
  },
  {
   "cell_type": "markdown",
   "metadata": {},
   "source": [
    "Let's average over multiple realisations."
   ]
  },
  {
   "cell_type": "code",
   "execution_count": 13,
   "metadata": {
    "collapsed": false
   },
   "outputs": [],
   "source": [
    "def turn_band_simple2(grid1,grid2,M):\n",
    "    \"\"\"\n",
    "    A7.9 Page 289\n",
    "    \"\"\"\n",
    "    xx,yy=np.meshgrid(grid1,grid2)\n",
    "    sum=np.zeros(xx.size)\n",
    "    for j in range(M):\n",
    "        xi=np.random.randn(2)\n",
    "        theta=pi * j / M\n",
    "        e=np.array([cos(theta),sin(theta)])\n",
    "        tmp=np.vstack([xx.ravel(),yy.ravel()])\n",
    "        tt=np.dot(e,tmp)\n",
    "        v=sqrt(1 / 2) * np.dot(xi,np.vstack([np.cos(tt),np.sin(tt)]))\n",
    "        sum=sum + v\n",
    "    v=sum / sqrt(M)\n",
    "    v=v.reshape((grid1.size,grid2.size))\n",
    "    return v"
   ]
  },
  {
   "cell_type": "code",
   "execution_count": 14,
   "metadata": {
    "collapsed": false
   },
   "outputs": [
    {
     "data": {
      "image/png": "[encoded data removed]",
      "text/plain": [
       "<matplotlib.figure.Figure at 0x212802a0668>"
      ]
     },
     "metadata": {},
     "output_type": "display_data"
    }
   ],
   "source": [
    "grid=np.linspace(0,20,200)\n",
    "u=turn_band_simple2(grid,grid,10)\n",
    "#\n",
    "ax = plt.gca()\n",
    "#ax.plot_wireframe(T,X,ut,rstride=16,cstride=1000,colors='k')\n",
    "CS=ax.contourf(grid,grid,u,20,cmap=plt.cm.bone)\n",
    "#ax.set_zlabel(r'$u$')\n",
    "s=ax.set_xlabel(r'$x_1$')\n",
    "s=ax.set_ylabel(r'$x_2$')\n",
    "s=ax.set_title(r'Fig 7.13(c)')\n",
    "s=plt.colorbar(CS)"
   ]
  },
  {
   "cell_type": "markdown",
   "metadata": {},
   "source": [
    "The turning-bands technique can be coupled with the methods from Chapter 6 to sample the stationary Gaussian random field with the Whittle-Matern covariance."
   ]
  },
  {
   "cell_type": "code",
   "execution_count": 15,
   "metadata": {
    "collapsed": false
   },
   "outputs": [],
   "source": [
    "import ch6\n",
    "def turn_band_wm(grid1,grid2,M,q,ell):\n",
    "    \"\"\"\n",
    "    A7.10 Page 291\n",
    "    \"\"\"\n",
    "    xx,yy=np.meshgrid(grid1,grid2)\n",
    "    sum=np.zeros(xx.size)\n",
    "    T=np.linalg.norm([np.linalg.norm(grid1,np.inf),\n",
    "                      np.linalg.norm(grid2,np.inf)])\n",
    "    for j in range(M):\n",
    "        theta=j * pi / M\n",
    "        e=np.array([cos(theta),sin(theta)])\n",
    "        tmp=np.vstack([xx.ravel(),yy.ravel()])\n",
    "        tt=np.dot(e,tmp)\n",
    "        gridt,Z=ch6.squad(2 * T,64,64,lambda s: ff(s,q,ell))\n",
    "        Xi=np.interp(tt,gridt - T,np.real(Z))\n",
    "        sum=sum + Xi\n",
    "    u=sum / sqrt(M)\n",
    "    u=u.reshape(grid1.size,grid2.size)\n",
    "    return u\n",
    "@jit([f8(f8,f8,f8)])\n",
    "def ff(s,q,ell):\n",
    "    f=gamma(q + 1) / gamma(q) * (ell ** 2 * abs(s)) / (1 + (ell * s) ** 2) ** (q + 1)\n",
    "    return f"
   ]
  },
  {
   "cell_type": "markdown",
   "metadata": {},
   "source": [
    "Here's a realisation."
   ]
  },
  {
   "cell_type": "code",
   "execution_count": 16,
   "metadata": {
    "collapsed": false
   },
   "outputs": [
    {
     "data": {
      "image/png": "[encoded data removed]",
      "text/plain": [
       "<matplotlib.figure.Figure at 0x21280299eb8>"
      ]
     },
     "metadata": {},
     "output_type": "display_data"
    }
   ],
   "source": [
    "grid=np.linspace(0,10,200)\n",
    "u=turn_band_wm(grid,grid,10,1,1)\n",
    "#\n",
    "ax = plt.gca()\n",
    "#ax.plot_wireframe(T,X,ut,rstride=16,cstride=1000,colors='k')\n",
    "CS=ax.contourf(grid,grid,u,10,cmap=plt.cm.bone)\n",
    "#ax.set_zlabel(r'$u$')\n",
    "s=ax.set_xlabel(r'$x_1$')\n",
    "s=ax.set_ylabel(r'$x_2$')\n",
    "s=plt.colorbar(CS)"
   ]
  },
  {
   "cell_type": "code",
   "execution_count": null,
   "metadata": {
    "collapsed": true
   },
   "outputs": [],
   "source": []
  }
 ],
 "metadata": {
  "kernelspec": {
   "display_name": "Python 3",
   "language": "python",
   "name": "python3"
  },
  "language_info": {
   "codemirror_mode": {
    "name": "ipython",
    "version": 3
   },
   "file_extension": ".py",
   "mimetype": "text/x-python",
   "name": "python",
   "nbconvert_exporter": "python",
   "pygments_lexer": "ipython3",
   "version": "3.5.1"
  }
 },
 "nbformat": 4,
 "nbformat_minor": 0
}
