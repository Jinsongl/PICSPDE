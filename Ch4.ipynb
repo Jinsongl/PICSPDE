{
 "cells": [
  {
   "cell_type": "markdown",
   "metadata": {},
   "source": [
    "# Python codes for [Introduction to Computional Stochastic PDEs, CUP 2014](http://www.cambridge.org/gb/academic/subjects/mathematics/differential-and-integral-equations-dynamical-systems-and-co/introduction-computational-stochastic-pdes?format=PB&isbn=9780521728522)\n",
    "\n",
    "[T. Shardlow](http://people.bath.ac.uk/tjs42/) Mar 2016\n",
    "# Chapter 4\n",
    "\n",
    "\n",
    "\n"
   ]
  },
  {
   "cell_type": "code",
   "execution_count": 1,
   "metadata": {
    "collapsed": true
   },
   "outputs": [],
   "source": [
    "from __future__ import (absolute_import, division,\n",
    "                        print_function, unicode_literals)\n",
    "import sys\n",
    "if sys.version_info < (3,):\n",
    "    try:\n",
    "        from builtins import (bytes, dict, int, list, object, range, str,\n",
    "                              ascii, chr, hex, input, next, oct, open,\n",
    "                              pow, round, super, filter, map, zip)\n",
    "        from future.builtins.disabled import (apply, cmp, coerce, execfile,\n",
    "                                              file, long, raw_input,\n",
    "                                              reduce, reload,\n",
    "                                              unicode, xrange, StandardError)\n",
    "    except:\n",
    "        print(\"need future module\")\n"
   ]
  },
  {
   "cell_type": "code",
   "execution_count": 2,
   "metadata": {
    "collapsed": false
   },
   "outputs": [],
   "source": [
    "from math import *\n",
    "# Numpy\n",
    "import numpy as np\n",
    "from numpy import matlib\n",
    "# Plotting\n",
    "%matplotlib inline\n",
    "import matplotlib\n",
    "import matplotlib.pyplot as plt\n",
    "from mpl_toolkits.mplot3d import Axes3D\n",
    "from matplotlib import cm\n",
    "# Scipy\n",
    "import scipy\n",
    "from scipy import sparse\n",
    "from scipy.sparse import linalg\n",
    "from scipy import optimize"
   ]
  },
  {
   "cell_type": "markdown",
   "metadata": {},
   "source": [
    "Chapter 4 starts the work with random numbers and the first function shows how to sample from the Gaussian distribution $N(\\mu,\\sigma)$ and compute the sample mean and variance.\n"
   ]
  },
  {
   "cell_type": "code",
   "execution_count": 3,
   "metadata": {
    "collapsed": false
   },
   "outputs": [],
   "source": [
    "def est_mean_var_func(mu,sigma,M):\n",
    "    \"\"\"\n",
    "    A4.1 Page 163\n",
    "    \"\"\"\n",
    "    X=np.random.randn(M)\n",
    "    X=mu + sigma * X\n",
    "    mu_M=np.mean(X)\n",
    "    sig_sq_M=np.var(X)\n",
    "    return mu_M,sig_sq_M"
   ]
  },
  {
   "cell_type": "code",
   "execution_count": 4,
   "metadata": {
    "collapsed": false
   },
   "outputs": [
    {
     "name": "stdout",
     "output_type": "stream",
     "text": [
      "The sample average is 0.650211887244 and the sample variance 0.843164549377 based on  40 samples for N(1,1)\n"
     ]
    }
   ],
   "source": [
    "mu=1;    sigma=1; M=40\n",
    "mu_M,sig_sq_M=est_mean_var_func(mu,sigma,M)\n",
    "print(\"The sample average is\", mu_M,\n",
    "    \"and the sample variance\", sig_sq_M,\n",
    "    \"based on \", M, \"samples for N(1,1)\")"
   ]
  },
  {
   "cell_type": "markdown",
   "metadata": {},
   "source": [
    "Python generates pseudo random numbers and the random number stream can be reproduced by storing and resetting the state of the random number generator."
   ]
  },
  {
   "cell_type": "code",
   "execution_count": 5,
   "metadata": {
    "collapsed": false
   },
   "outputs": [],
   "source": [
    "def setseed0(M):\n",
    "    \"\"\"\n",
    "    A4.2 Page 165\n",
    "    \"\"\"\n",
    "    s0=np.random.RandomState()\n",
    "    s0_state=s0.get_state()\n",
    "    r0=s0.randn(M)\n",
    "    s0.set_state(s0_state)\n",
    "    r00=s0.randn(M)\n",
    "    return r0,r00\n",
    "    \n",
    "def setseed1(M):\n",
    "    \"\"\"\n",
    "    A4.3 Page 165\n",
    "    \"\"\"\n",
    "    s1=np.random.RandomState()\n",
    "    s0=np.random.RandomState()\n",
    "    r1=s1.randn(M)\n",
    "    r0=s0.randn(M)\n",
    "    tmp=np.vstack((r1,\n",
    "                   r0))\n",
    "    return  np.cov(tmp)"
   ]
  },
  {
   "cell_type": "markdown",
   "metadata": {},
   "source": [
    "We show how to reproduce a stream of random numers with `setseet0` and how to work with two uncorrelated random number streams in `setseed1`. Notice that the off-diagonals of the covariance are very small, indicating the samples are uncorrelated."
   ]
  },
  {
   "cell_type": "code",
   "execution_count": 6,
   "metadata": {
    "collapsed": false
   },
   "outputs": [
    {
     "name": "stdout",
     "output_type": "stream",
     "text": [
      "Identical samples:\n",
      " [ 0.81489992  0.76143959  0.07694935 -0.61195669 -1.1646947  -2.31956454\n",
      "  0.5642974  -1.10766594  0.43282974 -0.20260256] and\n",
      " [ 0.81489992  0.76143959  0.07694935 -0.61195669 -1.1646947  -2.31956454\n",
      "  0.5642974  -1.10766594  0.43282974 -0.20260256]\n",
      "Covariance of samples [[ 0.95500506 -0.00345936]\n",
      " [-0.00345936  1.05820756]]\n"
     ]
    }
   ],
   "source": [
    "r0,r00=setseed0(10)\n",
    "print(\"Identical samples:\\n\",r0,\"and\\n\",r00)\n",
    "#\n",
    "print(\"Covariance of samples\", setseed1(1000))"
   ]
  },
  {
   "cell_type": "markdown",
   "metadata": {},
   "source": [
    "Let's look now at generating random numbers in parallel.\n",
    "\n",
    "First, you need to start an ipcluster on your machine. This is done by running `ipcluster start` at the command line (in Windows PowerShell, for example). The code then sets up N random numbergenerators and stores them in `stream`, and also stores their initial state in `init_state`. First, the code generates N sets of M Gaussians in series, then reproduces one of the rows, and then generates N sets of M Gaussian in parallel."
   ]
  },
  {
   "cell_type": "code",
   "execution_count": 12,
   "metadata": {
    "collapsed": false
   },
   "outputs": [
    {
     "name": "stdout",
     "output_type": "stream",
     "text": [
      "sr= [[ 0.90390365  0.65476072 -0.42647782  0.47217152  0.0518215  -0.32324357]\n",
      " [-0.24180847 -0.35042203 -1.21377586 -0.32739907 -1.74333538 -0.0759546 ]\n",
      " [ 1.27268467 -0.02500331 -0.0904326  -0.82035676  2.3166674   0.37689438]\n",
      " [ 0.05270123 -0.1900696  -0.66663564 -0.58521261 -0.03028957 -0.44856859]] \n",
      "sr4= [[ 0.05270123 -0.1900696  -0.66663564 -0.58521261 -0.03028957 -0.44856859]] ar=\n",
      " [array([[ 0.90390365,  0.65476072, -0.42647782,  0.47217152,  0.0518215 ,\n",
      "        -0.32324357]]), array([[-0.24180847, -0.35042203, -1.21377586, -0.32739907, -1.74333538,\n",
      "        -0.0759546 ]]), array([[ 1.27268467, -0.02500331, -0.0904326 , -0.82035676,  2.3166674 ,\n",
      "         0.37689438]]), array([[ 0.05270123, -0.1900696 , -0.66663564, -0.58521261, -0.03028957,\n",
      "        -0.44856859]])]\n"
     ]
    }
   ],
   "source": [
    "def parseed():\n",
    "    \"\"\"\n",
    "    A4.4 Page 166\n",
    "    \"\"\"\n",
    "    N=4\n",
    "    M=6\n",
    "    sr=np.zeros((N,M))\n",
    "    stream={};    init_state={}\n",
    "    for j in range(N):\n",
    "        stream[j]=np.random.RandomState() # create new rng\n",
    "        init_state[j]=stream[j].get_state() # save initial state\n",
    "        sr[j,:]=stream[j].randn(1,M)\n",
    "    #\n",
    "    def srandn(j): \n",
    "        stream[j].set_state(init_state[j])# reset state of jth rng\n",
    "        return stream[j].randn(1,M)\n",
    "    #\n",
    "    sr4=srandn(N-1) # reproduces the 4th row        \n",
    "    #\n",
    "    from ipyparallel import Client\n",
    "    import os\n",
    "    rc = Client()   \n",
    "    view = rc[:]\n",
    "    # tell clients to work in our directory\n",
    "    view.apply_sync(os.chdir, os.getcwd())\n",
    "    ar=view.map_sync(lambda j: srandn(j),range(N))\n",
    "    return sr,sr4,ar\n",
    "#\n",
    "sr,sr4,ar=parseed()\n",
    "print(\"sr=\",sr,\"\\nsr4=\",sr4,\"ar=\\n\",ar)"
   ]
  },
  {
   "cell_type": "code",
   "execution_count": 13,
   "metadata": {
    "collapsed": false
   },
   "outputs": [],
   "source": [
    "def uniform_ball():\n",
    "    \"\"\"\n",
    "    A4.5 Page 167\n",
    "    \"\"\"\n",
    "    theta=np.random.uniform()*2*pi; S=np.random.uniform()\n",
    "    X=sqrt(S)*np.array([cos(theta),sin(theta)])\n",
    "    return X\n",
    "\n",
    "def uniform_sphere():\n",
    "    \"\"\"\n",
    "    A4.6 Page 168\n",
    "    \"\"\"\n",
    "    z=-1+2*np.random.uniform()\n",
    "    theta=2*pi*np.random.uniform()\n",
    "    r=sqrt(1-z*z)\n",
    "    X=np.array([r*cos(theta),r*sin(theta),z])\n",
    "    return X\n",
    "\n",
    "def reject_uniform():\n",
    "    \"\"\"\n",
    "    A4.7 Page 168\n",
    "    \"\"\"\n",
    "    M=0; X=np.ones(2);\n",
    "    while np.linalg.norm(X)>1:# reject\n",
    "        M=M+1; X=np.random.uniform(-1,1,2) # generate sample\n",
    "    return X,M"
   ]
  },
  {
   "cell_type": "markdown",
   "metadata": {},
   "source": [
    "Here we have sampling methods for the uniform distributions on the ball and the sphere (by change of variables), with an alternative method for generating uniform samples on the unit ball (by rejection sampling)"
   ]
  },
  {
   "cell_type": "code",
   "execution_count": 14,
   "metadata": {
    "collapsed": false
   },
   "outputs": [
    {
     "name": "stdout",
     "output_type": "stream",
     "text": [
      "Uniform sample from unit ball at origin [ 0.51655396  0.28705832]\n",
      "Uniform sample from unit sphere at origin [ 0.5821194   0.25029924  0.7736196 ]\n",
      "Uniform sample of unit ball [-0.10768545 -0.98238243] using 1 attempts (rejection sampling)\n"
     ]
    }
   ],
   "source": [
    "print(\"Uniform sample from unit ball at origin\", uniform_ball())\n",
    "#\n",
    "print(\"Uniform sample from unit sphere at origin\", uniform_sphere())\n",
    "#\n",
    "[X,M]=reject_uniform()\n",
    "print(\"Uniform sample of unit ball\", X, \"using\", M, \"attempts (rejection sampling)\" )"
   ]
  },
  {
   "cell_type": "markdown",
   "metadata": {},
   "source": [
    "Sampling from multivariate Gaussians can be done by the Cholesky factorisation."
   ]
  },
  {
   "cell_type": "code",
   "execution_count": 15,
   "metadata": {
    "collapsed": false
   },
   "outputs": [],
   "source": [
    "def gauss_chol(mu,C):\n",
    "    \"\"\"\n",
    "    A4.8 Page 170\n",
    "    \"\"\"\n",
    "    R= scipy.linalg.cholesky(C, lower=True)\n",
    "    Z=np.random.randn(mu.size)\n",
    "    X=mu+np.dot(R.T,Z)\n",
    "    return X"
   ]
  },
  {
   "cell_type": "markdown",
   "metadata": {},
   "source": [
    "Here's a $2\\times 2$ example."
   ]
  },
  {
   "cell_type": "code",
   "execution_count": 16,
   "metadata": {
    "collapsed": false
   },
   "outputs": [
    {
     "name": "stdout",
     "output_type": "stream",
     "text": [
      "Multivariate Gaussian sample [-0.43260261  1.69354539]\n"
     ]
    }
   ],
   "source": [
    "mu=np.array([0,0])\n",
    "C=np.array([[2,1],[1,2]])\n",
    "print(\"Multivariate Gaussian sample\", gauss_chol(mu,C))"
   ]
  },
  {
   "cell_type": "markdown",
   "metadata": {},
   "source": [
    "We consider an ODE with a random initial data and compute the distribution of one of the components at time $T$, using a simple Monte Carlo method. See Example 4.72."
   ]
  },
  {
   "cell_type": "code",
   "execution_count": 31,
   "metadata": {
    "collapsed": false
   },
   "outputs": [],
   "source": [
    "import ch3\n",
    "def pop_monte(M,T,Dt,baru0,epsilon):\n",
    "    \"\"\"\n",
    "    A4.9 Page 174\n",
    "    \"\"\"\n",
    "    d=baru0.size\n",
    "    N=int(T // Dt)\n",
    "    u=np.zeros((M,d))  \n",
    "    for j in range(M):\n",
    "        u0=baru0 + epsilon * np.random.uniform(-1,1,baru0.size)\n",
    "        t,usample=ch3.exp_euler(u0,T,N,d,f_pop)\n",
    "        u[j,:]=usample[:,-1]\n",
    "    bar_x,sig95=monte(u[:,0])\n",
    "    return bar_x,sig95\n",
    "    \n",
    "def f_pop(u):\n",
    "    return np.array([u[0]*(1-u[1]),\n",
    "                     u[1]*(u[0]-1)])\n",
    "\n",
    "def monte(samples):\n",
    "    \"\"\"\n",
    "    Helper function for A4.9 Page 174\n",
    "    \"\"\"\n",
    "    M=samples.size\n",
    "    conf95=2 * sqrt(np.var(samples) / M)\n",
    "    sample_av=np.mean(samples)\n",
    "    return sample_av,conf95    "
   ]
  },
  {
   "cell_type": "code",
   "execution_count": 32,
   "metadata": {
    "collapsed": false
   },
   "outputs": [
    {
     "name": "stdout",
     "output_type": "stream",
     "text": [
      "mean 1.50227354061 sd 0.02939864970796154\n"
     ]
    }
   ],
   "source": [
    "M=4*int(1e2); T=6\n",
    "Dt=2e-3\n",
    "baru0=np.array([0.5,2])\n",
    "epsilon=0.2\n",
    "bar_x,sig95=pop_monte(M,T,Dt,baru0,epsilon)\n",
    "print(\"mean\",bar_x,\"sd\",sig95)"
   ]
  },
  {
   "cell_type": "markdown",
   "metadata": {},
   "source": [
    "By introducing a symmetry to the samples of the initial data, we reduce the variance in the quantity of interest."
   ]
  },
  {
   "cell_type": "code",
   "execution_count": 33,
   "metadata": {
    "collapsed": true
   },
   "outputs": [],
   "source": [
    "def pop_monte_anti(M,T,Dt,baru0,epsilon):\n",
    "    d=baru0.size\n",
    "    N=int(T // Dt)\n",
    "    u=np.zeros((2*M,d))  \n",
    "    for j in range(M):\n",
    "        u0=baru0 + epsilon * np.random.uniform(-1,1,baru0.size)\n",
    "        t,usample=ch3.exp_euler(u0,T,N,d,f_pop)\n",
    "        u[j,:]=usample[:,-1]\n",
    "        u0=2 * baru0 - u0\n",
    "        t,usample=ch3.exp_euler(u0,T,N,d,f_pop)\n",
    "        u[j+M,:]=usample[:,-1]\n",
    "    bar_x,sig95=monte(u[:,0])\n",
    "    return bar_x,sig95"
   ]
  },
  {
   "cell_type": "markdown",
   "metadata": {},
   "source": [
    "The resuling mean is similar, but the standard deviation is slightly reduced. Both runs are based on the same number of samples."
   ]
  },
  {
   "cell_type": "code",
   "execution_count": 44,
   "metadata": {
    "collapsed": false
   },
   "outputs": [
    {
     "name": "stdout",
     "output_type": "stream",
     "text": [
      "mean 1.49540169969 sd 0.026396530226\n"
     ]
    }
   ],
   "source": [
    "M=2*int(1e2); T=6\n",
    "Dt=2e-3\n",
    "baru0=np.array([0.5,2]); epsilon=0.2\n",
    "bar_x,sig95=pop_monte_anti(M,T,Dt,baru0,epsilon)\n",
    "print(\"mean\",bar_x,\"sd\",sig95)"
   ]
  }
 ],
 "metadata": {
  "kernelspec": {
   "display_name": "Python 3",
   "language": "python",
   "name": "python3"
  },
  "language_info": {
   "codemirror_mode": {
    "name": "ipython",
    "version": 3
   },
   "file_extension": ".py",
   "mimetype": "text/x-python",
   "name": "python",
   "nbconvert_exporter": "python",
   "pygments_lexer": "ipython3",
   "version": "3.5.1"
  }
 },
 "nbformat": 4,
 "nbformat_minor": 0
}
