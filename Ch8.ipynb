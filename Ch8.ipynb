{
 "cells": [
  {
   "cell_type": "markdown",
   "metadata": {},
   "source": [
    "# Python codes for [Introduction to Computional Stochastic PDEs, CUP 2014](http://www.cambridge.org/gb/academic/subjects/mathematics/differential-and-integral-equations-dynamical-systems-and-co/introduction-computational-stochastic-pdes?format=PB&isbn=9780521728522)\n",
    "\n",
    "Written by [T. Shardlow](http://people.bath.ac.uk/tjs42/) Dec 2015\n",
    "# Chapter 8\n",
    "\n",
    "\n",
    "\n"
   ]
  },
  {
   "cell_type": "code",
   "execution_count": 1,
   "metadata": {
    "collapsed": false
   },
   "outputs": [],
   "source": [
    "# load standard set of Python modules\n",
    "from __future__ import (absolute_import, division,\n",
    "                        print_function, unicode_literals)\n",
    "import sys\n",
    "if sys.version_info < (3,):\n",
    "    try:\n",
    "        from builtins import (bytes, dict, int, list, object, range, str,\n",
    "                              ascii, chr, hex, input, next, oct, open,\n",
    "                              pow, round, super, filter, map, zip)\n",
    "        from future.builtins.disabled import (apply, cmp, coerce, execfile,\n",
    "                                              file, long, raw_input,\n",
    "                                              reduce, reload,\n",
    "                                              unicode, xrange, StandardError)\n",
    "    except:\n",
    "        print(\"need future module\")"
   ]
  },
  {
   "cell_type": "code",
   "execution_count": 2,
   "metadata": {
    "collapsed": true
   },
   "outputs": [],
   "source": [
    "from math import *\n",
    "# Numpy\n",
    "import numpy as np\n",
    "from numpy import matlib\n",
    "# Plotting\n",
    "%matplotlib inline\n",
    "import matplotlib\n",
    "import matplotlib.pyplot as plt\n",
    "from mpl_toolkits.mplot3d import Axes3D\n",
    "from matplotlib import cm\n",
    "# Scipy\n",
    "import scipy\n",
    "from scipy import sparse\n",
    "from scipy.sparse import linalg\n",
    "from scipy import optimize\n",
    "# Numba\n",
    "from numba import jit, f8"
   ]
  },
  {
   "cell_type": "markdown",
   "metadata": {},
   "source": [
    "The basic method for numerically approximating SDEs in time is the Euler-Maruyama method."
   ]
  },
  {
   "cell_type": "code",
   "execution_count": 3,
   "metadata": {
    "collapsed": false
   },
   "outputs": [],
   "source": [
    "def EulerMaruyama(u0,T,N,d,m,fhandle,ghandle):\n",
    "    \"\"\"\n",
    "    Alg 8.1 Page 331\n",
    "    \"\"\"\n",
    "    Dt=T / N\n",
    "    u=np.zeros((d,N + 1))\n",
    "    t=np.linspace(0,T,N+1)\n",
    "    sqrtDt=sqrt(Dt)\n",
    "    u[:,0]=u0\n",
    "    u_n=np.copy(u0)\n",
    "    for n in range(N):\n",
    "        dW=sqrtDt * np.random.randn(m)\n",
    "        u_new=u_n + Dt * fhandle(u_n) + np.dot(ghandle(u_n), dW)\n",
    "        u[:,n + 1]=u_new\n",
    "        u_n=u_new\n",
    "    return t,u"
   ]
  },
  {
   "cell_type": "code",
   "execution_count": 4,
   "metadata": {
    "collapsed": false
   },
   "outputs": [],
   "source": [
    "def vdp(u0,T,N,alpha,lam,sigma):\n",
    "    \"\"\"\n",
    "    Alg 8.2 Page 331\n",
    "    \"\"\"\n",
    "    t,u=EulerMaruyama(u0,T,N,2,1,\n",
    "                      lambda u: vdp_f(u,lam,alpha),\n",
    "                      lambda u: vdp_g(u,sigma))\n",
    "    return t,u\n",
    "#\n",
    "@jit([f8[:](f8[:],f8,f8)])\n",
    "def vdp_f(u,lam,alpha):\n",
    "    \"\"\"\n",
    "    Helper function Alg 8.2\n",
    "    \"\"\"\n",
    "    f=np.array([u[1],\n",
    "                - u[1] * (lam + u[0] ** 2) + alpha * u[0] - u[0] ** 3]    )\n",
    "    return f\n",
    "#\n",
    "@jit([f8[:](f8[:],f8)])\n",
    "def vdp_g(u,sigma):\n",
    "    \"\"\"\n",
    "    Helper function Alg 8.2\n",
    "    \"\"\"\n",
    "    g=np.array([0, sigma * u[0]])\n",
    "    g.shape=(g.size,1)# force column vector\n",
    "    return g"
   ]
  },
  {
   "cell_type": "markdown",
   "metadata": {},
   "source": [
    "We present an example of the Euler-Maruyama approximation of the van der Poll-Duffing SDE."
   ]
  },
  {
   "cell_type": "code",
   "execution_count": 5,
   "metadata": {
    "collapsed": false
   },
   "outputs": [
    {
     "data": {
      "image/png": "[encoded data removed]",
      "text/plain": [
       "<matplotlib.figure.Figure at 0x2a6dcac8908>"
      ]
     },
     "metadata": {},
     "output_type": "display_data"
    }
   ],
   "source": [
    "lam=1; alpha=1; sigma=1;\n",
    "u0=np.array([0.5, 0])\n",
    "T=10\n",
    "N=1000\n",
    "[t,u]=vdp(u0,T,N,alpha,lam,sigma)\n",
    "#\n",
    "plt.plot(t,u[0,:])\n",
    "plt.plot(t,u[1,:])\n",
    "s=plt.xlabel(r'$t$')\n",
    "s=plt.ylabel(r'$u$')\n",
    "s=plt.title(r'Fig 8.5(a)')"
   ]
  },
  {
   "cell_type": "markdown",
   "metadata": {},
   "source": [
    "The Milstein method can be used to achieve higher rates of convergence. We implement when the diffusion is diagonal."
   ]
  },
  {
   "cell_type": "code",
   "execution_count": 6,
   "metadata": {
    "collapsed": false
   },
   "outputs": [],
   "source": [
    "def MilsteinDiag(u0,T,N,d,m,fhandle,ghandle,dghandle):\n",
    "    \"\"\"\n",
    "    Alg 8.3 Page 334\n",
    "    \"\"\"\n",
    "    Dt=T / N\n",
    "    u=np.zeros((d,N + 1))\n",
    "    t=np.linspace(0,T,N+1)\n",
    "    sqrtDt=sqrt(Dt)\n",
    "    u[:,0]=u0\n",
    "    u_n=np.copy(u0)\n",
    "    for n in range(N):\n",
    "        dW=sqrtDt * np.random.randn(m)\n",
    "        gu_n=ghandle(u_n)\n",
    "        u_new=(u_n + Dt * fhandle(u_n) + np.dot(gu_n,dW)\n",
    "               + 0.5 * (dghandle(u_n)*gu_n)* (dW ** 2 - Dt))\n",
    "        u[:,n + 1]=u_new\n",
    "        u_n=u_new\n",
    "    return t,u"
   ]
  },
  {
   "cell_type": "markdown",
   "metadata": {},
   "source": [
    "A simple example with geometric Brownian motion."
   ]
  },
  {
   "cell_type": "code",
   "execution_count": 7,
   "metadata": {
    "collapsed": false
   },
   "outputs": [
    {
     "data": {
      "image/png": "[encoded data removed]",
      "text/plain": [
       "<matplotlib.figure.Figure at 0x2a6ddb71ba8>"
      ]
     },
     "metadata": {},
     "output_type": "display_data"
    }
   ],
   "source": [
    "d=2; m=2;\n",
    "A=np.array([[1,0],[0,-1]])\n",
    "sigma=np.array([1,2])\n",
    "T=1; N=5000;u0=np.array([1,1])\n",
    "t,u=MilsteinDiag(u0,T,N,d,m,\n",
    "                lambda u: A.dot(u),\n",
    "                lambda u: sigma*u,\n",
    "                lambda u: sigma)\n",
    "#\n",
    "plt.plot(t,u[0,:])\n",
    "plt.plot(t,u[1,:])\n",
    "s=plt.xlabel(r'$t$')\n",
    "s=plt.ylabel(r'$u$')\n",
    "s=plt.title(r'Fig 8.6(a)')"
   ]
  },
  {
   "cell_type": "markdown",
   "metadata": {},
   "source": [
    "It's natural to introduce implicitness in the drift and the next codes implements the classical $\\theta$-method in the drift part of the SDE."
   ]
  },
  {
   "cell_type": "code",
   "execution_count": 8,
   "metadata": {
    "collapsed": false
   },
   "outputs": [],
   "source": [
    "def EulerMaruyamaTheta(u0,T,N,d,m,fhandle,ghandle,theta):\n",
    "    \"\"\"\n",
    "    Alg 8.4 Page 338\n",
    "    \"\"\"\n",
    "    Dt=T / N\n",
    "    u=np.zeros((d,N + 1))\n",
    "    t=np.linspace(0,T,N+1)\n",
    "    sqrtDt=sqrt(Dt)\n",
    "    u[:,0]=u0\n",
    "    u_n=np.copy(u0)\n",
    "    for n in range(N):          # \n",
    "        dW=sqrtDt * np.random.randn(m)\n",
    "        u_explicit=u_n + Dt * fhandle(u_n) + np.dot(ghandle(u_n), dW)\n",
    "        if (theta > 0):\n",
    "            v=u_n + (1 - theta) * Dt * fhandle(u_n) + np.dot(ghandle(u_n), dW)\n",
    "            u_new=scipy.optimize.fsolve(\n",
    "                lambda u: - u + v + theta * fhandle(u) * Dt,\n",
    "                u_explicit)\n",
    "        else:\n",
    "            u_new=u_explicit\n",
    "        u[:,n+1]=u_new\n",
    "        u_n=u_new\n",
    "    return t,u"
   ]
  },
  {
   "cell_type": "markdown",
   "metadata": {},
   "source": [
    "Here we present an example with geometric Brownian motion."
   ]
  },
  {
   "cell_type": "code",
   "execution_count": 9,
   "metadata": {
    "collapsed": false
   },
   "outputs": [
    {
     "data": {
      "image/png": "[encoded data removed]",
      "text/plain": [
       "<matplotlib.figure.Figure at 0x2a6dda5ee48>"
      ]
     },
     "metadata": {},
     "output_type": "display_data"
    }
   ],
   "source": [
    "u0=1; T=10; N=40; d=1; m=1; theta=1;\n",
    "r=-8; sigma=3;\n",
    "t,u=EulerMaruyamaTheta(u0,T,N,d,m,\n",
    "                        lambda u: r*u,\n",
    "                        lambda u: sigma*u,\n",
    "                        theta)\n",
    "#\n",
    "plt.plot(t,u[0,:],'+-')\n",
    "s=plt.xlabel(r'$t$')\n",
    "s=plt.ylabel(r'$u$')\n",
    "s=plt.title(r'Fig 8.8') # theta=1 only"
   ]
  },
  {
   "cell_type": "markdown",
   "metadata": {},
   "source": [
    "To study strong convergence, we generate sample paths from the SDE and refine them."
   ]
  },
  {
   "cell_type": "code",
   "execution_count": 10,
   "metadata": {
    "collapsed": false
   },
   "outputs": [],
   "source": [
    "def EMpath(u0,T,N,d,m,fhandle,ghandle,kappa0,M,s0):\n",
    "    \"\"\"\n",
    "    Alg 8.5 Page 343\n",
    "    \"\"\"\n",
    "    Dtref=T / N\n",
    "    Dt=kappa0 * Dtref\n",
    "    NN=N // kappa0\n",
    "    u=np.zeros((d,M,NN + 1))\n",
    "    t=np.linspace(0,T,NN)\n",
    "    gdW=np.zeros((d,M))\n",
    "    sqrtDtref=sqrt(Dtref)\n",
    "    u_n=np.copy(u0)\n",
    "    u[:,:,0]=u_n   \n",
    "    for n in range(NN ):\n",
    "        dW=sqrtDtref * np.sum(s0.randn(kappa0,m,M),axis=0)\n",
    "        for mm in range(M):\n",
    "            gdW[:,mm]=np.dot(ghandle(u_n[:,mm]) , dW[:,mm])\n",
    "        u_new=u_n + Dt * fhandle(u_n) + gdW\n",
    "        u_n=u_new\n",
    "        u[:,:,n+1]=u_n\n",
    "    \n",
    "    return t,u\n",
    "#\n",
    "def runEMpath(u0,T,Nref,d,m,fhandle,ghandle,kappa,M):\n",
    "    \"\"\"\n",
    "    Alg 8.6 Page 346\n",
    "    \"\"\"\n",
    "    S=0\n",
    "    Mstep=1000\n",
    "    m0=0\n",
    "    s0=np.random.RandomState()\n",
    "    \n",
    "    for mm in range(0,M,Mstep):\n",
    "        MM=min(Mstep,M - mm )\n",
    "        u00=u0[:,mm:m0 + MM ]\n",
    "        s0_state=s0.get_state()\n",
    "        tref,uref=EMpath(u00,T,Nref,d,m,fhandle,ghandle,1,MM,s0)\n",
    "        s0.set_state(s0_state);\n",
    "        t,u=EMpath(u00,T,Nref,d,m,fhandle,ghandle,kappa,MM,s0)\n",
    "        err=u[:,:,-1] - uref[:,:,-1]\n",
    "        S=S + np.linalg.norm(err,'fro')**2\n",
    "        m0=m0 + MM\n",
    "    rmsErr=sqrt(S / M)\n",
    "    return rmsErr # deleted some return values\n",
    "#"
   ]
  },
  {
   "cell_type": "markdown",
   "metadata": {},
   "source": [
    "Here we look at the rate of convergence of Euler-Maruyama in mean square."
   ]
  },
  {
   "cell_type": "code",
   "execution_count": 11,
   "metadata": {
    "collapsed": false
   },
   "outputs": [
    {
     "name": "stdout",
     "output_type": "stream",
     "text": [
      "[ 0.17378167  0.15473823  0.42100882  0.46232599  2.34628032  3.02231246]\n"
     ]
    },
    {
     "name": "stderr",
     "output_type": "stream",
     "text": [
      "C:\\Users\\tony\\Anaconda\\envs\\py35\\lib\\site-packages\\matplotlib\\axis.py:1015: UserWarning: Unable to find pixel distance along axis for interval padding of ticks; assuming no interval padding needed.\n",
      "  warnings.warn(\"Unable to find pixel distance along axis \"\n",
      "C:\\Users\\tony\\Anaconda\\envs\\py35\\lib\\site-packages\\matplotlib\\axis.py:1025: UserWarning: Unable to find pixel distance along axis for interval padding of ticks; assuming no interval padding needed.\n",
      "  warnings.warn(\"Unable to find pixel distance along axis \"\n"
     ]
    },
    {
     "data": {
      "image/png": "[encoded data removed]",
      "text/plain": [
       "<matplotlib.figure.Figure at 0x2a6df62bef0>"
      ]
     },
     "metadata": {},
     "output_type": "display_data"
    }
   ],
   "source": [
    "d=2; m=2; T=1; N=5000; Dtref=T/N; M=500\n",
    "A=np.array([[1,0],[0,-1]])\n",
    "u0=np.matlib.repmat(np.array([1,1]),M,1).T\n",
    "  \n",
    "kappa=np.array([5,10,50,100,500,1000],dtype='int32')\n",
    "rmsErr=np.zeros(kappa.shape)\n",
    "for k in range(kappa.size):\n",
    "        rmsErr[k]=runEMpath(u0,T,N,d,m,\n",
    "                            lambda u: A.dot(u),\n",
    "                            lambda u: np.array([[u[0],0],\n",
    "                                                [0,2*u[1]]]),\n",
    "                            kappa[k],M)\n",
    "print(rmsErr)\n",
    "plt.loglog(Dtref*kappa,rmsErr,'-o',fillstyle='none')\n",
    "s=plt.xlabel(r'$\\Delta t$')\n",
    "s=plt.ylabel(r'error')"
   ]
  },
  {
   "cell_type": "markdown",
   "metadata": {},
   "source": [
    "The last group of codes implement the multilevel Monte Carlo method."
   ]
  },
  {
   "cell_type": "code",
   "execution_count": 12,
   "metadata": {
    "collapsed": false
   },
   "outputs": [],
   "source": [
    "def mlmc(u0,T,d,m,fhandle,ghandle,kappa,epsilon,DTMX):\n",
    "    \"\"\"\n",
    "    Alg 8.7 Page 357\n",
    "    \"\"\"\n",
    "    Levels=int(ceil(log(2 * T / epsilon) / log(kappa)) + 1)\n",
    "    DT=T * kappa ** (- (np.arange(Levels, dtype='float64' )))\n",
    "    L0=(int)(np.min(np.where(DT <= DTMX)))\n",
    "    M=10 * np.ones(Levels,dtype='int')\n",
    "    Ckappa=(1 + 1.0 / kappa)\n",
    "    S1=np.zeros(Levels)\n",
    "    S2=np.copy(S1); ML=np.zeros(S1.shape,dtype='int');     VL=np.copy(S1)\n",
    "    for j in range(L0,Levels):\n",
    "        N=kappa ** j\n",
    "        S1,S2=getlevel(u0,T,N,d,m,fhandle,ghandle,kappa,M[j],j,L0,S1,S2)\n",
    "        VL[L0:j]=S2[L0:j] / M[L0:j] - (S1[L0:j] / M[L0:j]) ** 2\n",
    "        \n",
    "        KC=(2 / epsilon ** 2) * sqrt(VL[L0] / DT[L0])\n",
    "        if j > L0:\n",
    "            KC=KC + (2/epsilon**2) * np.sum(np.sqrt(VL[L0:j] / DT[L0:j] * Ckappa))\n",
    "            tmp=np.sqrt(VL[L0:j]* DT[L0:j])\n",
    "            ML[L0:j]=np.ceil((KC / Ckappa)*tmp)\n",
    "        else:\n",
    "            ML[L0]=ceil(KC * sqrt(VL[L0] * DT[L0]))\n",
    "        for l in range(L0,j):\n",
    "            dM=ML[l] - M[l]\n",
    "            if dM > 0:\n",
    "                N=kappa ** l\n",
    "                M[l]=M[l] + dM\n",
    "                S1,S2=getlevel(u0,T,N,d,m,fhandle,ghandle,kappa,dM,l,L0,S1,S2)\n",
    "    EPu=np.sum(S1[L0:Levels] / M[L0:Levels])\n",
    "    return EPu,M\n",
    "#    \n",
    "def getlevel(u00,T,N,d,m,fhandle,ghandle,kappa,MS,L,L0,S1,S2):\n",
    "    \"\"\"\n",
    "    Alg 8.8 Page 358\n",
    "    \"\"\"\n",
    "    SS1=0;    SS2=0;    Mstep=10000\n",
    "    s0=np.random.RandomState()\n",
    "    for M in range(0,MS,Mstep):\n",
    "        MM=(int)(min(Mstep,MS - M ))\n",
    "        u0=u00.reshape((d,1))*np.ones((d,MM))\n",
    "        if L == L0:\n",
    "            t,u=EMpath(u0,T,N,d,m,fhandle,ghandle,1,MM,s0)\n",
    "            u=u[:,:,-1]\n",
    "            SS1=SS1 + np.sum(phi(u))\n",
    "            SS2=SS2 + np.sum(phi(u) ** 2)\n",
    "        else:\n",
    "            s0_state=s0.get_state()\n",
    "            t,uu=EMpath(u0,T,N,d,m,fhandle,ghandle,1,MM,s0)\n",
    "            uref=uu[:,:,-1]\n",
    "            s0.set_state(s0_state);\n",
    "            t,uu=EMpath(u0,T,N,d,m,fhandle,ghandle,kappa,MM,s0)\n",
    "            u=uu[:,:,-1]\n",
    "            X=phi(uref) - phi(u)\n",
    "            SS1=SS1 + np.sum(X)\n",
    "            SS2=SS2 + np.sum(X ** 2)\n",
    "    \n",
    "    S1[L]=S1[L] + SS1\n",
    "    S2[L]=S2[L] + SS2\n",
    "    return S1,S2\n",
    "#   \n",
    "def phi(v):\n",
    "    \"\"\"\n",
    "    Helper function for Alg 8.8\n",
    "    \"\"\"\n",
    "    phiv=v[-1,:]\n",
    "    return phiv"
   ]
  },
  {
   "cell_type": "markdown",
   "metadata": {},
   "source": [
    "   Here we show the amount of work performed on each level."
   ]
  },
  {
   "cell_type": "code",
   "execution_count": 13,
   "metadata": {
    "collapsed": false
   },
   "outputs": [],
   "source": [
    "d=1; m=1; r=-1; sigma=0.5; u0=np.array([1]);\n",
    "kappa=2; T=1; DTMX=0.2; epsilon=1e-2;\n",
    "    \n",
    "Epu,M=mlmc(u0, T, d, m,\n",
    "           lambda u: np.array(r*u),\n",
    "           lambda u: np.array([[sigma*u]]),\n",
    "           kappa, epsilon, DTMX)   "
   ]
  },
  {
   "cell_type": "code",
   "execution_count": 14,
   "metadata": {
    "collapsed": false
   },
   "outputs": [
    {
     "name": "stdout",
     "output_type": "stream",
     "text": [
      "Number of samples on each level [1702  107   53   21   17]\n",
      "0.379359907996\n"
     ]
    }
   ],
   "source": [
    "print('Number of samples on each level',M[np.where(M>10)])\n",
    "print(Epu)"
   ]
  },
  {
   "cell_type": "code",
   "execution_count": null,
   "metadata": {
    "collapsed": true
   },
   "outputs": [],
   "source": []
  }
 ],
 "metadata": {
  "kernelspec": {
   "display_name": "Python 3",
   "language": "python",
   "name": "python3"
  },
  "language_info": {
   "codemirror_mode": {
    "name": "ipython",
    "version": 3
   },
   "file_extension": ".py",
   "mimetype": "text/x-python",
   "name": "python",
   "nbconvert_exporter": "python",
   "pygments_lexer": "ipython3",
   "version": "3.5.1"
  }
 },
 "nbformat": 4,
 "nbformat_minor": 0
}
